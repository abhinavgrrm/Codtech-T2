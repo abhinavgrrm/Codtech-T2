{
 "cells": [
  {
   "cell_type": "code",
   "execution_count": 1,
   "metadata": {},
   "outputs": [],
   "source": [
    "import tensorflow as tf\n",
    "from tensorflow.keras import layers, optimizers, losses\n",
    "from tensorflow.keras.preprocessing.image import ImageDataGenerator\n",
    "from sklearn.metrics import classification_report\n",
    "import numpy as np\n",
    "import glob  "
   ]
  },
  {
   "cell_type": "code",
   "execution_count": 2,
   "metadata": {},
   "outputs": [],
   "source": [
    "from tensorflow.keras.models import Sequential\n",
    "from tensorflow.keras.layers import Conv2D, MaxPooling2D, Flatten, Dense, Dropout\n",
    "from tensorflow.keras.optimizers import Adam\n",
    "from tensorflow.keras.callbacks import EarlyStopping, ReduceLROnPlateau\n"
   ]
  },
  {
   "cell_type": "markdown",
   "metadata": {},
   "source": [
    "EfficientNet\n"
   ]
  },
  {
   "cell_type": "code",
   "execution_count": null,
   "metadata": {},
   "outputs": [],
   "source": [
    "!pip install efficientnet\n"
   ]
  },
  {
   "cell_type": "code",
   "execution_count": null,
   "metadata": {},
   "outputs": [],
   "source": [
    "import tensorflow as tf\n",
    "from tensorflow.keras.models import Sequential\n",
    "from tensorflow.keras.layers import Dense, GlobalAveragePooling2D\n",
    "from efficientnet.tfkeras import EfficientNetB0\n",
    "from sklearn.utils.class_weight import compute_class_weight\n",
    "import os"
   ]
  },
  {
   "cell_type": "code",
   "execution_count": 7,
   "metadata": {},
   "outputs": [],
   "source": [
    "# Define your dataset directories\n",
    "train_path = 'Trimmed_AID_dataset/train'\n",
    "val_path = 'Trimmed_AID_dataset/val'"
   ]
  },
  {
   "cell_type": "code",
   "execution_count": 10,
   "metadata": {},
   "outputs": [
    {
     "name": "stdout",
     "output_type": "stream",
     "text": [
      "Found 1346 images belonging to 30 classes.\n",
      "Found 672 images belonging to 30 classes.\n"
     ]
    }
   ],
   "source": [
    "\n",
    "\n",
    "# Define image data generators for train and validation sets with data augmentation\n",
    "train_datagen = tf.keras.preprocessing.image.ImageDataGenerator(\n",
    "    rescale=1./255,\n",
    "    rotation_range=20,\n",
    "    width_shift_range=0.2,\n",
    "    height_shift_range=0.2,\n",
    "    shear_range=0.2,\n",
    "    zoom_range=0.2,\n",
    "    horizontal_flip=True,\n",
    ")\n",
    "\n",
    "val_datagen = tf.keras.preprocessing.image.ImageDataGenerator(rescale=1./255)\n",
    "\n",
    "# Define batch size\n",
    "batch_size = 32\n",
    "\n",
    "# Create train and validation data generators\n",
    "train_generator = train_datagen.flow_from_directory(\n",
    "    train_path,\n",
    "    target_size=(224, 224),  # EfficientNetB0 input size\n",
    "    batch_size=batch_size,\n",
    "    class_mode='categorical',\n",
    "    shuffle=True\n",
    ")\n",
    "\n",
    "val_generator = val_datagen.flow_from_directory(\n",
    "    val_path,\n",
    "    target_size=(224, 224),  # EfficientNetB0 input size\n",
    "    batch_size=batch_size,\n",
    "    class_mode='categorical',\n",
    "    shuffle=False\n",
    ")"
   ]
  },
  {
   "cell_type": "code",
   "execution_count": null,
   "metadata": {},
   "outputs": [],
   "source": [
    "# Load the EfficientNetB0 model pretrained on ImageNet\n",
    "base_model = EfficientNetB0(weights='imagenet', include_top=False, input_shape=(224, 224, 3))\n",
    "\n",
    "# Freeze the base model\n",
    "base_model.trainable = True\n",
    "\n",
    "\n",
    "# Define the model architecture\n",
    "EfficientNetB0_model = Sequential([\n",
    "    base_model,\n",
    "    GlobalAveragePooling2D(),\n",
    "    Dense(128, activation='relu'),\n",
    "    Dense(30, activation='softmax')\n",
    "])"
   ]
  },
  {
   "cell_type": "code",
   "execution_count": 15,
   "metadata": {},
   "outputs": [],
   "source": [
    "# Compile the model\n",
    "EfficientNetB0_model.compile(optimizer='adam',\n",
    "                             loss='categorical_crossentropy',\n",
    "                             metrics=['accuracy'])"
   ]
  },
  {
   "cell_type": "code",
   "execution_count": 16,
   "metadata": {},
   "outputs": [],
   "source": [
    "from tensorflow.keras.callbacks import EarlyStopping"
   ]
  },
  {
   "cell_type": "code",
   "execution_count": 17,
   "metadata": {},
   "outputs": [],
   "source": [
    "# Define early stopping callback\n",
    "early_stopping = EarlyStopping(monitor='val_loss', patience=3, restore_best_weights=True)\n",
    "reduce_lr = ReduceLROnPlateau(monitor='val_loss', factor=0.2, patience=3, min_lr=0.0001)"
   ]
  },
  {
   "cell_type": "code",
   "execution_count": 18,
   "metadata": {},
   "outputs": [
    {
     "name": "stdout",
     "output_type": "stream",
     "text": [
      "Epoch 1/100\n",
      "43/43 [==============================] - 234s 5s/step - loss: 1.7604 - accuracy: 0.5498 - val_loss: 3.9775 - val_accuracy: 0.3214 - lr: 0.0010\n",
      "Epoch 2/100\n",
      "43/43 [==============================] - 219s 5s/step - loss: 0.5414 - accuracy: 0.8514 - val_loss: 2.1582 - val_accuracy: 0.5461 - lr: 0.0010\n",
      "Epoch 3/100\n",
      "43/43 [==============================] - 218s 5s/step - loss: 0.3899 - accuracy: 0.8796 - val_loss: 3.0605 - val_accuracy: 0.5461 - lr: 0.0010\n",
      "Epoch 4/100\n",
      "43/43 [==============================] - 214s 5s/step - loss: 0.3922 - accuracy: 0.8848 - val_loss: 2.0725 - val_accuracy: 0.6012 - lr: 0.0010\n",
      "Epoch 5/100\n",
      "43/43 [==============================] - 219s 5s/step - loss: 0.2765 - accuracy: 0.9160 - val_loss: 2.0207 - val_accuracy: 0.6339 - lr: 0.0010\n",
      "Epoch 6/100\n",
      "43/43 [==============================] - 175s 4s/step - loss: 0.2879 - accuracy: 0.9168 - val_loss: 2.5076 - val_accuracy: 0.6161 - lr: 0.0010\n",
      "Epoch 7/100\n",
      "43/43 [==============================] - 177s 4s/step - loss: 0.3107 - accuracy: 0.9153 - val_loss: 1.8516 - val_accuracy: 0.6815 - lr: 0.0010\n",
      "Epoch 8/100\n",
      "43/43 [==============================] - 168s 4s/step - loss: 0.1995 - accuracy: 0.9443 - val_loss: 1.0598 - val_accuracy: 0.7902 - lr: 0.0010\n",
      "Epoch 9/100\n",
      "43/43 [==============================] - 175s 4s/step - loss: 0.1818 - accuracy: 0.9465 - val_loss: 1.2091 - val_accuracy: 0.7872 - lr: 0.0010\n",
      "Epoch 10/100\n",
      "43/43 [==============================] - 190s 4s/step - loss: 0.1949 - accuracy: 0.9421 - val_loss: 1.0331 - val_accuracy: 0.7991 - lr: 0.0010\n",
      "Epoch 11/100\n",
      "43/43 [==============================] - 185s 4s/step - loss: 0.1378 - accuracy: 0.9569 - val_loss: 1.0771 - val_accuracy: 0.8304 - lr: 0.0010\n",
      "Epoch 12/100\n",
      "43/43 [==============================] - 180s 4s/step - loss: 0.1236 - accuracy: 0.9636 - val_loss: 0.8910 - val_accuracy: 0.8140 - lr: 0.0010\n",
      "Epoch 13/100\n",
      "43/43 [==============================] - 179s 4s/step - loss: 0.2082 - accuracy: 0.9443 - val_loss: 0.9716 - val_accuracy: 0.8140 - lr: 0.0010\n",
      "Epoch 14/100\n",
      "43/43 [==============================] - 182s 4s/step - loss: 0.2181 - accuracy: 0.9383 - val_loss: 1.2062 - val_accuracy: 0.7857 - lr: 0.0010\n",
      "Epoch 15/100\n",
      "43/43 [==============================] - 179s 4s/step - loss: 0.2150 - accuracy: 0.9391 - val_loss: 0.8859 - val_accuracy: 0.8110 - lr: 0.0010\n",
      "Epoch 16/100\n",
      "43/43 [==============================] - 185s 4s/step - loss: 0.1702 - accuracy: 0.9495 - val_loss: 0.6721 - val_accuracy: 0.8244 - lr: 0.0010\n",
      "Epoch 17/100\n",
      "43/43 [==============================] - 181s 4s/step - loss: 0.0974 - accuracy: 0.9725 - val_loss: 0.6588 - val_accuracy: 0.8616 - lr: 0.0010\n",
      "Epoch 18/100\n",
      "43/43 [==============================] - 178s 4s/step - loss: 0.1721 - accuracy: 0.9547 - val_loss: 0.9434 - val_accuracy: 0.8185 - lr: 0.0010\n",
      "Epoch 19/100\n",
      "43/43 [==============================] - 193s 4s/step - loss: 0.1766 - accuracy: 0.9532 - val_loss: 0.9970 - val_accuracy: 0.8125 - lr: 0.0010\n",
      "Epoch 20/100\n",
      "43/43 [==============================] - 177s 4s/step - loss: 0.1516 - accuracy: 0.9614 - val_loss: 0.9200 - val_accuracy: 0.8259 - lr: 0.0010\n"
     ]
    }
   ],
   "source": [
    "# Train the model with early stopping\n",
    "history = EfficientNetB0_model.fit(train_generator, epochs=100, validation_data=val_generator, callbacks=[early_stopping,reduce_lr])"
   ]
  },
  {
   "cell_type": "code",
   "execution_count": 19,
   "metadata": {},
   "outputs": [
    {
     "data": {
      "image/png": "[encoded data removed]",
      "text/plain": [
       "<Figure size 640x480 with 1 Axes>"
      ]
     },
     "metadata": {},
     "output_type": "display_data"
    },
    {
     "data": {
      "image/png": "[encoded data removed]",
      "text/plain": [
       "<Figure size 640x480 with 1 Axes>"
      ]
     },
     "metadata": {},
     "output_type": "display_data"
    }
   ],
   "source": [
    "import matplotlib.pyplot as plt\n",
    "\n",
    "# Get training history\n",
    "train_accuracy = history.history['accuracy']\n",
    "val_accuracy = history.history['val_accuracy']\n",
    "train_loss = history.history['loss']\n",
    "val_loss = history.history['val_loss']\n",
    "epochs = range(1, len(train_accuracy) + 1)\n",
    "\n",
    "# Plot training and validation accuracies\n",
    "plt.plot(epochs, train_accuracy, 'b', label='Training Accuracy')\n",
    "plt.plot(epochs, val_accuracy, 'r', label='Validation Accuracy')\n",
    "plt.title('Training and Validation Accuracy')\n",
    "plt.xlabel('Epochs')\n",
    "plt.ylabel('Accuracy')\n",
    "plt.legend()\n",
    "plt.figure()\n",
    "\n",
    "# Plot training and validation losses\n",
    "plt.plot(epochs, train_loss, 'b', label='Training Loss')\n",
    "plt.plot(epochs, val_loss, 'r', label='Validation Loss')\n",
    "plt.title('Training and Validation Loss')\n",
    "plt.xlabel('Epochs')\n",
    "plt.ylabel('Loss')\n",
    "plt.legend()\n",
    "plt.show()\n"
   ]
  },
  {
   "cell_type": "code",
   "execution_count": 20,
   "metadata": {},
   "outputs": [],
   "source": [
    "test_datagen = tf.keras.preprocessing.image.ImageDataGenerator(rescale=1./255)"
   ]
  },
  {
   "cell_type": "code",
   "execution_count": 21,
   "metadata": {},
   "outputs": [
    {
     "name": "stdout",
     "output_type": "stream",
     "text": [
      "Found 1351 images belonging to 30 classes.\n"
     ]
    }
   ],
   "source": [
    "test_generator = test_datagen.flow_from_directory(\n",
    "    'Trimmed_AID_dataset/test',\n",
    "    target_size=(224, 224),  # EfficientNetB0 input size\n",
    "    batch_size=batch_size,\n",
    "    class_mode='categorical'\n",
    ")"
   ]
  },
  {
   "cell_type": "code",
   "execution_count": 22,
   "metadata": {},
   "outputs": [
    {
     "name": "stdout",
     "output_type": "stream",
     "text": [
      "43/43 [==============================] - 48s 1s/step - loss: 0.6688 - accuracy: 0.8690\n",
      "Training set accuracy: 0.9613670110702515\n",
      "Validation set accuracy: 0.8258928656578064\n",
      "Test set accuracy: 0.8689859509468079\n"
     ]
    }
   ],
   "source": [
    "# Evaluate the model on the test data\n",
    "test_loss, test_accuracy = EfficientNetB0_model.evaluate(test_generator)\n",
    "# Access the training and validation accuracies from the history object\n",
    "train_accuracy = history.history['accuracy']\n",
    "val_accuracy = history.history['val_accuracy']\n",
    "\n",
    "# Print the training and validation accuracies\n",
    "print(\"Training set accuracy:\", train_accuracy[-1])  # Accuracy from the last epoch\n",
    "print(\"Validation set accuracy:\", val_accuracy[-1])  # Accuracy from the last epoch\n",
    "# Print the test set accuracy\n",
    "print(\"Test set accuracy:\", test_accuracy)"
   ]
  },
  {
   "cell_type": "code",
   "execution_count": 23,
   "metadata": {},
   "outputs": [],
   "source": [
    "import numpy as np\n",
    "from sklearn.metrics import classification_report"
   ]
  },
  {
   "cell_type": "code",
   "execution_count": 24,
   "metadata": {},
   "outputs": [
    {
     "name": "stdout",
     "output_type": "stream",
     "text": [
      "21/21 [==============================] - 19s 833ms/step\n"
     ]
    }
   ],
   "source": [
    "# Make predictions on the validation set\n",
    "val_predictions = EfficientNetB0_model.predict(val_generator)\n",
    "val_pred_labels = np.argmax(val_predictions, axis=1)"
   ]
  },
  {
   "cell_type": "code",
   "execution_count": 25,
   "metadata": {},
   "outputs": [],
   "source": [
    "# Get true labels\n",
    "val_true_labels = val_generator.classes\n"
   ]
  },
  {
   "cell_type": "code",
   "execution_count": 26,
   "metadata": {},
   "outputs": [
    {
     "name": "stdout",
     "output_type": "stream",
     "text": [
      "              precision    recall  f1-score   support\n",
      "\n",
      "           0       0.88      0.75      0.81        20\n",
      "           1       0.94      0.75      0.83        20\n",
      "           2       0.95      0.90      0.92        20\n",
      "           3       1.00      0.95      0.97        20\n",
      "           4       0.94      0.80      0.86        20\n",
      "           5       0.58      0.75      0.65        20\n",
      "           6       0.55      0.80      0.65        20\n",
      "           7       0.79      0.75      0.77        20\n",
      "           8       0.74      1.00      0.85        20\n",
      "           9       0.86      0.95      0.90        20\n",
      "          10       0.90      0.90      0.90        20\n",
      "          11       0.95      0.90      0.92        20\n",
      "          12       0.85      0.85      0.85        20\n",
      "          13       0.71      1.00      0.83        20\n",
      "          14       1.00      0.95      0.97        20\n",
      "          15       1.00      1.00      1.00        20\n",
      "          16       0.79      0.55      0.65        20\n",
      "          17       1.00      0.95      0.97        20\n",
      "          18       0.86      0.95      0.90        20\n",
      "          19       0.94      0.85      0.89        20\n",
      "          20       0.88      1.00      0.94        38\n",
      "          21       0.77      1.00      0.87        20\n",
      "          22       1.00      0.40      0.57        20\n",
      "          23       0.86      0.90      0.88        21\n",
      "          24       0.81      0.65      0.72        20\n",
      "          25       0.95      0.97      0.96        37\n",
      "          26       0.84      0.82      0.83        38\n",
      "          27       1.00      0.65      0.79        20\n",
      "          28       0.95      0.92      0.93        38\n",
      "          29       0.91      1.00      0.95        20\n",
      "\n",
      "    accuracy                           0.86       672\n",
      "   macro avg       0.87      0.85      0.85       672\n",
      "weighted avg       0.88      0.86      0.86       672\n",
      "\n"
     ]
    }
   ],
   "source": [
    "# Print classification report\n",
    "print(classification_report(val_true_labels, val_pred_labels))"
   ]
  },
  {
   "cell_type": "code",
   "execution_count": 27,
   "metadata": {},
   "outputs": [
    {
     "name": "stdout",
     "output_type": "stream",
     "text": [
      "['Airport', 'BareLand', 'BaseballField', 'Beach', 'Bridge', 'Center', 'Church', 'Commercial', 'DenseResidential', 'Desert', 'Farmland', 'Forest', 'Industrial', 'Meadow', 'MediumResidential', 'Mountain', 'Park', 'Parking', 'Playground', 'Pond', 'Port', 'RailwayStation', 'Resort', 'River', 'School', 'SparseResidential', 'Square', 'Stadium', 'StorageTanks', 'Viaduct']\n"
     ]
    }
   ],
   "source": [
    "# Get class labels from the train_generator\n",
    "class_labels = list(train_generator.class_indices.keys())\n",
    "\n",
    "print(class_labels)"
   ]
  },
  {
   "cell_type": "code",
   "execution_count": 28,
   "metadata": {},
   "outputs": [],
   "source": [
    "class_count = len(class_labels)"
   ]
  },
  {
   "cell_type": "code",
   "execution_count": 29,
   "metadata": {},
   "outputs": [],
   "source": [
    "import numpy as np"
   ]
  },
  {
   "cell_type": "code",
   "execution_count": 41,
   "metadata": {},
   "outputs": [
    {
     "name": "stdout",
     "output_type": "stream",
     "text": [
      "1/1 [==============================] - 0s 105ms/step\n",
      "Predicted class label: Desert\n"
     ]
    }
   ],
   "source": [
    "# Load external image\n",
    "from tensorflow.keras.preprocessing import image\n",
    "\n",
    "# Load the image\n",
    "img_path = 'Pics/unnamed.jpg'\n",
    "external_img = image.load_img(img_path, target_size=(224, 224))\n",
    "\n",
    "# Convert image to array\n",
    "external_img_array = image.img_to_array(external_img)\n",
    "external_img_array = np.expand_dims(external_img_array, axis=0)\n",
    "\n",
    "# Preprocess the image\n",
    "external_img_array /= 255.\n",
    "\n",
    "# Make predictions on external image\n",
    "external_img_pred = EfficientNetB0_model.predict(external_img_array)\n",
    "external_img_pred_label = np.argmax(external_img_pred)\n",
    "\n",
    "# Print prediction\n",
    "print(\"Predicted class label:\", class_labels[external_img_pred_label])"
   ]
  },
  {
   "cell_type": "markdown",
   "metadata": {},
   "source": [
    "End\n"
   ]
  },
  {
   "cell_type": "code",
   "execution_count": 95,
   "metadata": {},
   "outputs": [],
   "source": [
    "# Save the model\n",
    "EfficientNetB0_model.save(\"efficientnet_model.h5\")\n"
   ]
  },
  {
   "cell_type": "code",
   "execution_count": null,
   "metadata": {},
   "outputs": [],
   "source": []
  },
  {
   "cell_type": "code",
   "execution_count": null,
   "metadata": {},
   "outputs": [],
   "source": []
  },
  {
   "cell_type": "code",
   "execution_count": null,
   "metadata": {},
   "outputs": [],
   "source": []
  },
  {
   "cell_type": "code",
   "execution_count": null,
   "metadata": {},
   "outputs": [],
   "source": []
  }
 ],
 "metadata": {
  "kernelspec": {
   "display_name": "Python 3",
   "language": "python",
   "name": "python3"
  },
  "language_info": {
   "codemirror_mode": {
    "name": "ipython",
    "version": 3
   },
   "file_extension": ".py",
   "mimetype": "text/x-python",
   "name": "python",
   "nbconvert_exporter": "python",
   "pygments_lexer": "ipython3",
   "version": "3.10.6"
  }
 },
 "nbformat": 4,
 "nbformat_minor": 2
}
